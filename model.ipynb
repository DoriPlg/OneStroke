{
 "cells": [
  {
   "cell_type": "markdown",
   "id": "548e2b3a",
   "metadata": {},
   "source": [
    "Access the Data"
   ]
  },
  {
   "cell_type": "code",
   "execution_count": 3,
   "id": "a2a5b714",
   "metadata": {},
   "outputs": [
    {
     "name": "stdout",
     "output_type": "stream",
     "text": [
      "Path to dataset files: /home/dori/.cache/kagglehub/datasets/ashishjangra27/doodle-dataset/versions/1\n"
     ]
    }
   ],
   "source": [
    "\"\"\"\n",
    "Huge credit to Ashish Jangra for collecting and curating this dataset, available at:\n",
    "https://www.kaggle.com/datasets/ashishjangra27/doodle-dataset\n",
    "Shoutout to Maria Saif for providing the framework for the CNN model:\n",
    "https://www.kaggle.com/code/mariasaif/building-and-training-a-cnn-for-doodle-classificat\n",
    "\"\"\"\n",
    "\n",
    "import kagglehub\n",
    "\n",
    "# Download latest version\n",
    "path = kagglehub.dataset_download(\"ashishjangra27/doodle-dataset\")\n",
    "\n",
    "print(\"Path to dataset files:\", path)"
   ]
  },
  {
   "cell_type": "code",
   "execution_count": 4,
   "id": "9bce9345",
   "metadata": {},
   "outputs": [
    {
     "name": "stdout",
     "output_type": "stream",
     "text": [
      "Files in dataset directory: ['doodle', 'master_doodle_dataframe.csv']\n"
     ]
    }
   ],
   "source": [
    "import os\n",
    "print(\"Files in dataset directory:\", os.listdir(path))"
   ]
  },
  {
   "cell_type": "markdown",
   "id": "3d79af62",
   "metadata": {},
   "source": [
    "Explore the Data"
   ]
  },
  {
   "cell_type": "code",
   "execution_count": 5,
   "id": "26a5d9fd",
   "metadata": {},
   "outputs": [
    {
     "name": "stdout",
     "output_type": "stream",
     "text": [
      "  countrycode                                            drawing  \\\n",
      "0          RO  [[[0, 5, 3, 4, 10, 72, 82, 91, 99, 98, 87, 71,...   \n",
      "1          US  [[[0, 255], [3, 4]], [[86, 73, 73, 76, 85, 130...   \n",
      "2          ZA  [[[39, 33, 34, 39, 52, 61, 66, 65, 67, 71], [2...   \n",
      "3          VN  [[[12, 9], [128, 255]], [[0, 23, 36, 37, 42, 5...   \n",
      "4          HU  [[[9, 7, 0, 19, 49, 90, 96, 99, 93, 94, 62, 16...   \n",
      "\n",
      "             key_id  recognized           word  \\\n",
      "0  5613582005829632        True  traffic light   \n",
      "1  5769631006457856        True  traffic light   \n",
      "2  4999795544424448        True  traffic light   \n",
      "3  4878417906368512        True  traffic light   \n",
      "4  5572841187573760        True  traffic light   \n",
      "\n",
      "                                image_path  \n",
      "0  data/traffic light/5613582005829632.png  \n",
      "1  data/traffic light/5769631006457856.png  \n",
      "2  data/traffic light/4999795544424448.png  \n",
      "3  data/traffic light/4878417906368512.png  \n",
      "4  data/traffic light/5572841187573760.png  \n"
     ]
    }
   ],
   "source": [
    "import pandas as pd\n",
    "df = pd.read_csv(path + \"/master_doodle_dataframe.csv\")\n",
    "print(df.head())"
   ]
  },
  {
   "cell_type": "code",
   "execution_count": 6,
   "id": "f2811b2f",
   "metadata": {},
   "outputs": [
    {
     "name": "stdout",
     "output_type": "stream",
     "text": [
      "Shape of the dataframe: (1020000, 6)\n",
      "             key_id\n",
      "count  1.020000e+06\n",
      "mean   5.630078e+15\n",
      "std    6.500708e+14\n",
      "min    4.503606e+15\n",
      "25%    5.066571e+15\n",
      "50%    5.630318e+15\n",
      "75%    6.192766e+15\n",
      "max    6.755396e+15\n",
      "countrycode    46\n",
      "drawing         0\n",
      "key_id          0\n",
      "recognized      0\n",
      "word            0\n",
      "image_path      0\n",
      "dtype: int64\n",
      "countrycode    object\n",
      "drawing        object\n",
      "key_id          int64\n",
      "recognized       bool\n",
      "word           object\n",
      "image_path     object\n",
      "dtype: object\n",
      "Unique words (classes): ['traffic light' 'rhinoceros' 'bed' 'school bus' 'van' 'octopus'\n",
      " 'firetruck' 'laptop' 'tractor' 'matches' 'windmill' 'square' 'pineapple'\n",
      " 'candle' 'mosquito' 'pear' 'boomerang' 'lollipop' 'yoga' 'waterslide'\n",
      " 'swan' 'triangle' 'diving board' 'crayon' 'hockey puck' 'moustache'\n",
      " 'calendar' 'cow' 'fire hydrant' 'hot air balloon' 'helmet' 'parrot'\n",
      " 'hot tub' 'baseball' 'saw' 'mouth' 'passport' 'campfire' 'car'\n",
      " 'bulldozer' 'pencil' 'wine glass' 'marker' 'axe' 'mug' 'see saw' 'foot'\n",
      " 'door' 'beach' 'cruise ship' 'drums' 'necklace' 'spoon' 'motorbike'\n",
      " 'megaphone' 'penguin' 'washing machine' 'giraffe' 'monkey' 'shoe'\n",
      " 'microphone' 'skyscraper' 'blackberry' 'sword' 'nail' 'birthday cake'\n",
      " 'carrot' 'lobster' 'hourglass' 'microwave' 'cannon' 'clarinet'\n",
      " 'basketball' 'pliers' 'bee' 'flashlight' 'leaf' 'belt' 'grass' 'river'\n",
      " 'peas' 'elbow' 'tiger' 'roller coaster' 'piano' 'trumpet' 'snowflake'\n",
      " 'bandage' 'bowtie' 'harp' 'onion' 'stairs' 'bus' 'oven' 'stop sign'\n",
      " 'chair' 'guitar' 'headphones' 'hockey stick' 'sheep' 'leg' 'popsicle'\n",
      " 'suitcase' 'snorkel' 'angel' 'scissors' 'line' 'shorts' 'toaster'\n",
      " 'lantern' 'rabbit' 'rain' 'camel' 'mouse' 'snail' 'cell phone' 'couch'\n",
      " 'butterfly' 'bear' 'light bulb' 'flower' 'paint can' 'hedgehog'\n",
      " 'teddy-bear' 'stitches' 'bathtub' 'blueberry' 'police car' 'crab' 'jail'\n",
      " 'ear' 'violin' 'grapes' 'ocean' 'telephone' 'bucket' 'anvil'\n",
      " 'animal migration' 'hamburger' 'dog' 'bush' 'whale' 'dresser' 'bicycle'\n",
      " 'church' 'table' 'hand' 'bread' 'toothpaste' 'raccoon' 'sandwich' 'barn'\n",
      " 'eyeglasses' 'cactus' 'smiley face' 'screwdriver' 'sun' 'envelope' 'map'\n",
      " 'radio' 'lighthouse' 'frog' 'peanut' 'sleeping bag' 'feather'\n",
      " 'The Great Wall of China' 'pillow' 'stethoscope' 'baseball bat' 'vase'\n",
      " 'sailboat' 'pond' 'crocodile' 'cake' 'kangaroo' 'pool' 'hurricane'\n",
      " 'hammer' 'tennis racquet' 'calculator' 'knee' 'The Eiffel Tower' 'cloud'\n",
      " 'lion' 'strawberry' 'fireplace' 'sink' 'hexagon' 'pizza' 'lipstick'\n",
      " 'flamingo' 'spider' 'star' 'streetlight' 'frying pan' 'cup' 'television'\n",
      " 'palm tree' 'eye' 'rake' 'pants' 'tooth' 'string bean' 'bracelet' 'crown'\n",
      " 'flip flops' 'teapot' 'compass' 'power outlet' 'beard' 'rainbow'\n",
      " 'toothbrush' 'canoe' 'alarm clock' 'tornado' 'circle' 'pig' 'horse'\n",
      " 'computer' 'squiggle' 'fan' 'broccoli' 'hat' 'wine bottle' 'umbrella'\n",
      " 'The Mona Lisa' 'backpack' 'chandelier' 'cooler' 'basket' 'paper clip'\n",
      " 'trombone' 'house' 'cat' 'dolphin' 'moon' 'shark' 'swing set' 'speedboat'\n",
      " 'skull' 'cello' 'toe' 'underwear' 'golf club' 'paintbrush' 'tree' 'panda'\n",
      " 'camouflage' 'pickup truck' 'ladder' 'arm' 'clock' 'fence' 'sea turtle'\n",
      " 'jacket' 'diamond' 'octagon' 'remote control' 'stove' 'train' 'tent'\n",
      " 'parachute' 'ice cream' 'truck' 'castle' 'finger' 'potato' 'binoculars'\n",
      " 'helicopter' 'snowman' 'ant' 'toilet' 'flying saucer' 'steak' 'owl'\n",
      " 't-shirt' 'house plant' 'soccer ball' 'apple' 'book' 'face' 'sock'\n",
      " 'drill' 'donut' 'saxophone' 'dishwasher' 'camera' 'hospital' 'broom'\n",
      " 'lightning' 'watermelon' 'spreadsheet' 'bridge' 'coffee cup' 'ambulance'\n",
      " 'key' 'picture frame' 'nose' 'purse' 'stereo' 'keyboard' 'elephant'\n",
      " 'zigzag' 'bird' 'sweater' 'mailbox' 'banana' 'bench' 'snake' 'scorpion'\n",
      " 'submarine' 'ceiling fan' 'duck' 'skateboard' 'eraser' 'fork' 'hot dog'\n",
      " 'squirrel' 'rollerskates' 'zebra' 'mountain' 'wristwatch' 'dumbbell'\n",
      " 'mermaid' 'cookie' 'garden' 'asparagus' 'bottlecap' 'airplane' 'mushroom'\n",
      " 'bat' 'wheel' 'dragon' 'goatee' 'floor lamp' 'garden hose' 'postcard'\n",
      " 'shovel' 'brain' 'fish']\n",
      "Number of unique words: 340\n"
     ]
    }
   ],
   "source": [
    "# Check the shape of the dataframe\n",
    "print(\"Shape of the dataframe:\", df.shape)\n",
    "\n",
    "# Display basic statistics of the dataset\n",
    "print(df.describe())\n",
    "\n",
    "# Check for missing values\n",
    "print(df.isnull().sum())\n",
    "\n",
    "# Check data types of each column\n",
    "print(df.dtypes)\n",
    "\n",
    "# Get unique values in 'word' column\n",
    "unique_words = df['word'].unique()\n",
    "print(\"Unique words (classes):\", unique_words)\n",
    "print(\"Number of unique words:\", len(unique_words))\n",
    "\n",
    "\n"
   ]
  },
  {
   "cell_type": "markdown",
   "id": "d8ffa7bd",
   "metadata": {},
   "source": [
    "Preprocess"
   ]
  },
  {
   "cell_type": "code",
   "execution_count": 13,
   "id": "29ac154b",
   "metadata": {},
   "outputs": [],
   "source": [
    "df_sample = df.sample(n=5000, random_state=42)  # Sample 50,000 drawings for initial training\n"
   ]
  },
  {
   "cell_type": "code",
   "execution_count": 14,
   "id": "34507f81",
   "metadata": {},
   "outputs": [
    {
     "name": "stderr",
     "output_type": "stream",
     "text": [
      "Converting drawings to images: 100%|██████████| 5000/5000 [00:01<00:00, 2589.53it/s]\n"
     ]
    }
   ],
   "source": [
    "import numpy as np\n",
    "import cv2\n",
    "import ast\n",
    "from tqdm import tqdm  # Import tqdm\n",
    "\n",
    "# Function to convert stroke-based drawings to images\n",
    "def strokes_to_image(strokes, size=(64, 64)):\n",
    "    img = np.zeros(size, dtype=np.uint8)\n",
    "    for stroke in strokes:\n",
    "        for i in range(len(stroke[0]) - 1):\n",
    "            x1, y1 = stroke[0][i], stroke[1][i]\n",
    "            x2, y2 = stroke[0][i + 1], stroke[1][i + 1]\n",
    "            img = cv2.line(img, (x1, y1), (x2, y2), 255, 2)\n",
    "    return img\n",
    "\n",
    "# Batch processing to convert all drawings\n",
    "def convert_drawings_to_images(dataframe):\n",
    "    images = []\n",
    "    for drawing in tqdm(dataframe['drawing'], desc='Converting drawings to images'):\n",
    "        strokes = ast.literal_eval(drawing)\n",
    "        img = strokes_to_image(strokes, size=(64, 64))\n",
    "        images.append(img)\n",
    "    return np.array(images)\n",
    "\n",
    "# Convert drawings to images using the sampled dataframe\n",
    "df_sample['drawing_image'] = convert_drawings_to_images(df_sample).tolist()\n"
   ]
  },
  {
   "cell_type": "code",
   "execution_count": 15,
   "id": "8f71dcee",
   "metadata": {},
   "outputs": [
    {
     "name": "stdout",
     "output_type": "stream",
     "text": [
      "Shape of X: (5000, 1, 64, 64)\n",
      "Shape of y: (5000,)\n"
     ]
    }
   ],
   "source": [
    "from sklearn.preprocessing import LabelEncoder, OneHotEncoder\n",
    "# Convert images to numpy arrays and normalize\n",
    "X = np.stack(df_sample['drawing_image'].values).astype('float32') / 255.0\n",
    "X = X.reshape(-1, 1, 64, 64)  # PyTorch format (batch, channels, height, width)\n",
    "\n",
    "# Encode labels using the sampled dataframe\n",
    "# make each row of y a one-hot encoded vector for the corresponding label\n",
    "le = LabelEncoder()\n",
    "y = le.fit_transform(df_sample['word']).astype(np.int32)\n",
    "\n",
    "# Check shapes\n",
    "print(f\"Shape of X: {X.shape}\")  # Should be (50000, 1, 64, 64)\n",
    "print(f\"Shape of y: {y.shape}\")  # Should be (50000,)"
   ]
  },
  {
   "cell_type": "code",
   "execution_count": 16,
   "id": "23a241e7",
   "metadata": {},
   "outputs": [
    {
     "name": "stdout",
     "output_type": "stream",
     "text": [
      "Training set shape: (4000, 1, 64, 64), (4000,)\n",
      "Testing set shape: (1000, 1, 64, 64), (1000,)\n"
     ]
    }
   ],
   "source": [
    "from sklearn.model_selection import train_test_split\n",
    "\n",
    "# Split the data into training and testing sets\n",
    "X_train, X_test, y_train, y_test = train_test_split(X, y, test_size=0.2, random_state=42)\n",
    "\n",
    "print(f\"Training set shape: {X_train.shape}, {y_train.shape}\")\n",
    "print(f\"Testing set shape: {X_test.shape}, {y_test.shape}\")"
   ]
  },
  {
   "cell_type": "markdown",
   "id": "e3090676",
   "metadata": {},
   "source": [
    "Building the CNN"
   ]
  },
  {
   "cell_type": "code",
   "execution_count": 24,
   "id": "065f64c8",
   "metadata": {},
   "outputs": [],
   "source": [
    "from torch import nn, optim\n",
    "import torch\n",
    "import torch.nn.functional as F\n",
    "from torch.utils.data import DataLoader, TensorDataset\n",
    "\n",
    "# Define the CNN model\n",
    "class DoodleCNN(nn.Module):\n",
    "    \"\"\"\n",
    "    A Convolutional Neural Network (CNN) for classifying doodle images of size 64x64 pixels.\n",
    "    \"\"\"\n",
    "    def __init__(self, num_classes):\n",
    "        super(DoodleCNN, self).__init__()\n",
    "        self.conv1 = nn.Conv2d(1, 32, kernel_size=3, padding='same')\n",
    "        self.conv2 = nn.Conv2d(32, 64, kernel_size=3, padding='same')\n",
    "        self.conv3 = nn.Conv2d(64, 128, kernel_size=3, padding='same')\n",
    "        self.pool = nn.MaxPool2d(2, 2)\n",
    "        self.fc1 = nn.Linear(128 * 8 * 8, 512)\n",
    "        self.fc2 = nn.Linear(512, num_classes)\n",
    "\n",
    "    def forward(self, x):\n",
    "        x = self.pool(F.relu(self.conv1(x)))\n",
    "        x = self.pool(F.relu(self.conv2(x)))\n",
    "        x = self.pool(F.relu(self.conv3(x)))\n",
    "        x = x.view(-1, 128 * 8 * 8)\n",
    "        x = F.relu(self.fc1(x))\n",
    "        x = self.fc2(x)\n",
    "        return x\n",
    "\n",
    "    \n",
    "def train_model(model, train_loader, criterion, optimizer, device):\n",
    "    model.train()\n",
    "    running_loss = 0.0\n",
    "    correct = 0\n",
    "    total = 0\n",
    "    \n",
    "    for inputs, labels in tqdm(train_loader, desc=\"Training Epoch\"):\n",
    "        inputs, labels = inputs.to(device), labels.to(device)\n",
    "        \n",
    "        optimizer.zero_grad()\n",
    "        outputs = model(inputs)\n",
    "        loss = criterion(outputs, labels)\n",
    "        loss.backward()\n",
    "        optimizer.step()\n",
    "        \n",
    "        running_loss += loss.item()\n",
    "        _, predicted = torch.max(outputs.data, 1)\n",
    "        total += labels.size(0)\n",
    "        correct += (predicted == labels).sum().item()\n",
    "    \n",
    "    epoch_loss = running_loss / len(train_loader)\n",
    "    accuracy = correct / total\n",
    "    return epoch_loss, accuracy\n",
    "\n",
    "def validate_model(model, X_test, y_test, criterion, device, batch_size=64):\n",
    "    model.eval()\n",
    "    total_loss = 0.0\n",
    "    correct = 0\n",
    "    total = 0\n",
    "    \n",
    "    # Process validation data in batches to avoid memory issues\n",
    "    with torch.no_grad():\n",
    "        for i in range(0, len(X_test), batch_size):\n",
    "            batch_X = torch.tensor(X_test[i:i+batch_size], dtype=torch.float32).to(device)\n",
    "            batch_y = torch.tensor(y_test[i:i+batch_size], dtype=torch.long).to(device)\n",
    "            \n",
    "            outputs = model(batch_X)\n",
    "            loss = criterion(outputs, batch_y)\n",
    "            \n",
    "            total_loss += loss.item()\n",
    "            _, predicted = torch.max(outputs.data, 1)\n",
    "            total += batch_y.size(0)\n",
    "            correct += (predicted == batch_y).sum().item()\n",
    "    \n",
    "    avg_loss = total_loss / (len(X_test) // batch_size + 1)\n",
    "    accuracy = correct / total\n",
    "    return avg_loss, accuracy\n"
   ]
  },
  {
   "cell_type": "code",
   "execution_count": 25,
   "id": "80113953",
   "metadata": {},
   "outputs": [
    {
     "name": "stdout",
     "output_type": "stream",
     "text": [
      "Using device: cpu\n"
     ]
    },
    {
     "name": "stderr",
     "output_type": "stream",
     "text": [
      "Training Epoch: 100%|██████████| 63/63 [00:16<00:00,  3.93it/s]\n"
     ]
    },
    {
     "name": "stdout",
     "output_type": "stream",
     "text": [
      "Epoch 1/30\n",
      "  Train - Loss: 5.8240, Accuracy: 0.0050\n",
      "  Val   - Loss: 5.7989, Accuracy: 0.0030\n"
     ]
    },
    {
     "name": "stderr",
     "output_type": "stream",
     "text": [
      "Training Epoch: 100%|██████████| 63/63 [00:16<00:00,  3.76it/s]\n"
     ]
    },
    {
     "name": "stdout",
     "output_type": "stream",
     "text": [
      "Epoch 2/30\n",
      "  Train - Loss: 5.6181, Accuracy: 0.0187\n",
      "  Val   - Loss: 5.6444, Accuracy: 0.0080\n"
     ]
    },
    {
     "name": "stderr",
     "output_type": "stream",
     "text": [
      "Training Epoch: 100%|██████████| 63/63 [00:17<00:00,  3.59it/s]\n"
     ]
    },
    {
     "name": "stdout",
     "output_type": "stream",
     "text": [
      "Epoch 3/30\n",
      "  Train - Loss: 5.0772, Accuracy: 0.0400\n",
      "  Val   - Loss: 5.7139, Accuracy: 0.0160\n"
     ]
    },
    {
     "name": "stderr",
     "output_type": "stream",
     "text": [
      "Training Epoch:  51%|█████     | 32/63 [00:09<00:08,  3.45it/s]\n"
     ]
    },
    {
     "ename": "KeyboardInterrupt",
     "evalue": "",
     "output_type": "error",
     "traceback": [
      "\u001b[31m---------------------------------------------------------------------------\u001b[39m",
      "\u001b[31mKeyboardInterrupt\u001b[39m                         Traceback (most recent call last)",
      "\u001b[36mCell\u001b[39m\u001b[36m \u001b[39m\u001b[32mIn[25]\u001b[39m\u001b[32m, line 28\u001b[39m\n\u001b[32m     19\u001b[39m history = {\n\u001b[32m     20\u001b[39m     \u001b[33m'\u001b[39m\u001b[33mtrain_loss\u001b[39m\u001b[33m'\u001b[39m: [],\n\u001b[32m     21\u001b[39m     \u001b[33m'\u001b[39m\u001b[33mtrain_accuracy\u001b[39m\u001b[33m'\u001b[39m: [],\n\u001b[32m     22\u001b[39m     \u001b[33m'\u001b[39m\u001b[33mval_loss\u001b[39m\u001b[33m'\u001b[39m: [],\n\u001b[32m     23\u001b[39m     \u001b[33m'\u001b[39m\u001b[33mval_accuracy\u001b[39m\u001b[33m'\u001b[39m: []\n\u001b[32m     24\u001b[39m }\n\u001b[32m     26\u001b[39m \u001b[38;5;28;01mfor\u001b[39;00m epoch \u001b[38;5;129;01min\u001b[39;00m \u001b[38;5;28mrange\u001b[39m(num_epochs):\n\u001b[32m     27\u001b[39m     \u001b[38;5;66;03m# Training\u001b[39;00m\n\u001b[32m---> \u001b[39m\u001b[32m28\u001b[39m     train_loss, train_accuracy = \u001b[43mtrain_model\u001b[49m\u001b[43m(\u001b[49m\u001b[43mmodel\u001b[49m\u001b[43m,\u001b[49m\u001b[43m \u001b[49m\u001b[43mtrain_loader\u001b[49m\u001b[43m,\u001b[49m\u001b[43m \u001b[49m\u001b[43mcriterion\u001b[49m\u001b[43m,\u001b[49m\u001b[43m \u001b[49m\u001b[43moptimizer\u001b[49m\u001b[43m,\u001b[49m\u001b[43m \u001b[49m\u001b[43mdevice\u001b[49m\u001b[43m)\u001b[49m\n\u001b[32m     30\u001b[39m     \u001b[38;5;66;03m# Validation\u001b[39;00m\n\u001b[32m     31\u001b[39m     val_loss, val_accuracy = validate_model(model, X_test, y_test, criterion, device)\n",
      "\u001b[36mCell\u001b[39m\u001b[36m \u001b[39m\u001b[32mIn[24]\u001b[39m\u001b[32m, line 40\u001b[39m, in \u001b[36mtrain_model\u001b[39m\u001b[34m(model, train_loader, criterion, optimizer, device)\u001b[39m\n\u001b[32m     37\u001b[39m inputs, labels = inputs.to(device), labels.to(device)\n\u001b[32m     39\u001b[39m optimizer.zero_grad()\n\u001b[32m---> \u001b[39m\u001b[32m40\u001b[39m outputs = \u001b[43mmodel\u001b[49m\u001b[43m(\u001b[49m\u001b[43minputs\u001b[49m\u001b[43m)\u001b[49m\n\u001b[32m     41\u001b[39m loss = criterion(outputs, labels)\n\u001b[32m     42\u001b[39m loss.backward()\n",
      "\u001b[36mFile \u001b[39m\u001b[32m~/Documents/Code/OneStroke/OneStroke_venv/lib/python3.12/site-packages/torch/nn/modules/module.py:1773\u001b[39m, in \u001b[36mModule._wrapped_call_impl\u001b[39m\u001b[34m(self, *args, **kwargs)\u001b[39m\n\u001b[32m   1771\u001b[39m     \u001b[38;5;28;01mreturn\u001b[39;00m \u001b[38;5;28mself\u001b[39m._compiled_call_impl(*args, **kwargs)  \u001b[38;5;66;03m# type: ignore[misc]\u001b[39;00m\n\u001b[32m   1772\u001b[39m \u001b[38;5;28;01melse\u001b[39;00m:\n\u001b[32m-> \u001b[39m\u001b[32m1773\u001b[39m     \u001b[38;5;28;01mreturn\u001b[39;00m \u001b[38;5;28;43mself\u001b[39;49m\u001b[43m.\u001b[49m\u001b[43m_call_impl\u001b[49m\u001b[43m(\u001b[49m\u001b[43m*\u001b[49m\u001b[43margs\u001b[49m\u001b[43m,\u001b[49m\u001b[43m \u001b[49m\u001b[43m*\u001b[49m\u001b[43m*\u001b[49m\u001b[43mkwargs\u001b[49m\u001b[43m)\u001b[49m\n",
      "\u001b[36mFile \u001b[39m\u001b[32m~/Documents/Code/OneStroke/OneStroke_venv/lib/python3.12/site-packages/torch/nn/modules/module.py:1784\u001b[39m, in \u001b[36mModule._call_impl\u001b[39m\u001b[34m(self, *args, **kwargs)\u001b[39m\n\u001b[32m   1779\u001b[39m \u001b[38;5;66;03m# If we don't have any hooks, we want to skip the rest of the logic in\u001b[39;00m\n\u001b[32m   1780\u001b[39m \u001b[38;5;66;03m# this function, and just call forward.\u001b[39;00m\n\u001b[32m   1781\u001b[39m \u001b[38;5;28;01mif\u001b[39;00m \u001b[38;5;129;01mnot\u001b[39;00m (\u001b[38;5;28mself\u001b[39m._backward_hooks \u001b[38;5;129;01mor\u001b[39;00m \u001b[38;5;28mself\u001b[39m._backward_pre_hooks \u001b[38;5;129;01mor\u001b[39;00m \u001b[38;5;28mself\u001b[39m._forward_hooks \u001b[38;5;129;01mor\u001b[39;00m \u001b[38;5;28mself\u001b[39m._forward_pre_hooks\n\u001b[32m   1782\u001b[39m         \u001b[38;5;129;01mor\u001b[39;00m _global_backward_pre_hooks \u001b[38;5;129;01mor\u001b[39;00m _global_backward_hooks\n\u001b[32m   1783\u001b[39m         \u001b[38;5;129;01mor\u001b[39;00m _global_forward_hooks \u001b[38;5;129;01mor\u001b[39;00m _global_forward_pre_hooks):\n\u001b[32m-> \u001b[39m\u001b[32m1784\u001b[39m     \u001b[38;5;28;01mreturn\u001b[39;00m \u001b[43mforward_call\u001b[49m\u001b[43m(\u001b[49m\u001b[43m*\u001b[49m\u001b[43margs\u001b[49m\u001b[43m,\u001b[49m\u001b[43m \u001b[49m\u001b[43m*\u001b[49m\u001b[43m*\u001b[49m\u001b[43mkwargs\u001b[49m\u001b[43m)\u001b[49m\n\u001b[32m   1786\u001b[39m result = \u001b[38;5;28;01mNone\u001b[39;00m\n\u001b[32m   1787\u001b[39m called_always_called_hooks = \u001b[38;5;28mset\u001b[39m()\n",
      "\u001b[36mCell\u001b[39m\u001b[36m \u001b[39m\u001b[32mIn[24]\u001b[39m\u001b[32m, line 23\u001b[39m, in \u001b[36mDoodleCNN.forward\u001b[39m\u001b[34m(self, x)\u001b[39m\n\u001b[32m     21\u001b[39m x = \u001b[38;5;28mself\u001b[39m.pool(F.relu(\u001b[38;5;28mself\u001b[39m.conv1(x)))\n\u001b[32m     22\u001b[39m x = \u001b[38;5;28mself\u001b[39m.pool(F.relu(\u001b[38;5;28mself\u001b[39m.conv2(x)))\n\u001b[32m---> \u001b[39m\u001b[32m23\u001b[39m x = \u001b[38;5;28mself\u001b[39m.pool(F.relu(\u001b[38;5;28;43mself\u001b[39;49m\u001b[43m.\u001b[49m\u001b[43mconv3\u001b[49m\u001b[43m(\u001b[49m\u001b[43mx\u001b[49m\u001b[43m)\u001b[49m))\n\u001b[32m     24\u001b[39m x = x.view(-\u001b[32m1\u001b[39m, \u001b[32m128\u001b[39m * \u001b[32m8\u001b[39m * \u001b[32m8\u001b[39m)\n\u001b[32m     25\u001b[39m x = F.relu(\u001b[38;5;28mself\u001b[39m.fc1(x))\n",
      "\u001b[36mFile \u001b[39m\u001b[32m~/Documents/Code/OneStroke/OneStroke_venv/lib/python3.12/site-packages/torch/nn/modules/module.py:1773\u001b[39m, in \u001b[36mModule._wrapped_call_impl\u001b[39m\u001b[34m(self, *args, **kwargs)\u001b[39m\n\u001b[32m   1771\u001b[39m     \u001b[38;5;28;01mreturn\u001b[39;00m \u001b[38;5;28mself\u001b[39m._compiled_call_impl(*args, **kwargs)  \u001b[38;5;66;03m# type: ignore[misc]\u001b[39;00m\n\u001b[32m   1772\u001b[39m \u001b[38;5;28;01melse\u001b[39;00m:\n\u001b[32m-> \u001b[39m\u001b[32m1773\u001b[39m     \u001b[38;5;28;01mreturn\u001b[39;00m \u001b[38;5;28;43mself\u001b[39;49m\u001b[43m.\u001b[49m\u001b[43m_call_impl\u001b[49m\u001b[43m(\u001b[49m\u001b[43m*\u001b[49m\u001b[43margs\u001b[49m\u001b[43m,\u001b[49m\u001b[43m \u001b[49m\u001b[43m*\u001b[49m\u001b[43m*\u001b[49m\u001b[43mkwargs\u001b[49m\u001b[43m)\u001b[49m\n",
      "\u001b[36mFile \u001b[39m\u001b[32m~/Documents/Code/OneStroke/OneStroke_venv/lib/python3.12/site-packages/torch/nn/modules/module.py:1784\u001b[39m, in \u001b[36mModule._call_impl\u001b[39m\u001b[34m(self, *args, **kwargs)\u001b[39m\n\u001b[32m   1779\u001b[39m \u001b[38;5;66;03m# If we don't have any hooks, we want to skip the rest of the logic in\u001b[39;00m\n\u001b[32m   1780\u001b[39m \u001b[38;5;66;03m# this function, and just call forward.\u001b[39;00m\n\u001b[32m   1781\u001b[39m \u001b[38;5;28;01mif\u001b[39;00m \u001b[38;5;129;01mnot\u001b[39;00m (\u001b[38;5;28mself\u001b[39m._backward_hooks \u001b[38;5;129;01mor\u001b[39;00m \u001b[38;5;28mself\u001b[39m._backward_pre_hooks \u001b[38;5;129;01mor\u001b[39;00m \u001b[38;5;28mself\u001b[39m._forward_hooks \u001b[38;5;129;01mor\u001b[39;00m \u001b[38;5;28mself\u001b[39m._forward_pre_hooks\n\u001b[32m   1782\u001b[39m         \u001b[38;5;129;01mor\u001b[39;00m _global_backward_pre_hooks \u001b[38;5;129;01mor\u001b[39;00m _global_backward_hooks\n\u001b[32m   1783\u001b[39m         \u001b[38;5;129;01mor\u001b[39;00m _global_forward_hooks \u001b[38;5;129;01mor\u001b[39;00m _global_forward_pre_hooks):\n\u001b[32m-> \u001b[39m\u001b[32m1784\u001b[39m     \u001b[38;5;28;01mreturn\u001b[39;00m \u001b[43mforward_call\u001b[49m\u001b[43m(\u001b[49m\u001b[43m*\u001b[49m\u001b[43margs\u001b[49m\u001b[43m,\u001b[49m\u001b[43m \u001b[49m\u001b[43m*\u001b[49m\u001b[43m*\u001b[49m\u001b[43mkwargs\u001b[49m\u001b[43m)\u001b[49m\n\u001b[32m   1786\u001b[39m result = \u001b[38;5;28;01mNone\u001b[39;00m\n\u001b[32m   1787\u001b[39m called_always_called_hooks = \u001b[38;5;28mset\u001b[39m()\n",
      "\u001b[36mFile \u001b[39m\u001b[32m~/Documents/Code/OneStroke/OneStroke_venv/lib/python3.12/site-packages/torch/nn/modules/conv.py:548\u001b[39m, in \u001b[36mConv2d.forward\u001b[39m\u001b[34m(self, input)\u001b[39m\n\u001b[32m    547\u001b[39m \u001b[38;5;28;01mdef\u001b[39;00m\u001b[38;5;250m \u001b[39m\u001b[34mforward\u001b[39m(\u001b[38;5;28mself\u001b[39m, \u001b[38;5;28minput\u001b[39m: Tensor) -> Tensor:\n\u001b[32m--> \u001b[39m\u001b[32m548\u001b[39m     \u001b[38;5;28;01mreturn\u001b[39;00m \u001b[38;5;28;43mself\u001b[39;49m\u001b[43m.\u001b[49m\u001b[43m_conv_forward\u001b[49m\u001b[43m(\u001b[49m\u001b[38;5;28;43minput\u001b[39;49m\u001b[43m,\u001b[49m\u001b[43m \u001b[49m\u001b[38;5;28;43mself\u001b[39;49m\u001b[43m.\u001b[49m\u001b[43mweight\u001b[49m\u001b[43m,\u001b[49m\u001b[43m \u001b[49m\u001b[38;5;28;43mself\u001b[39;49m\u001b[43m.\u001b[49m\u001b[43mbias\u001b[49m\u001b[43m)\u001b[49m\n",
      "\u001b[36mFile \u001b[39m\u001b[32m~/Documents/Code/OneStroke/OneStroke_venv/lib/python3.12/site-packages/torch/nn/modules/conv.py:543\u001b[39m, in \u001b[36mConv2d._conv_forward\u001b[39m\u001b[34m(self, input, weight, bias)\u001b[39m\n\u001b[32m    531\u001b[39m \u001b[38;5;28;01mif\u001b[39;00m \u001b[38;5;28mself\u001b[39m.padding_mode != \u001b[33m\"\u001b[39m\u001b[33mzeros\u001b[39m\u001b[33m\"\u001b[39m:\n\u001b[32m    532\u001b[39m     \u001b[38;5;28;01mreturn\u001b[39;00m F.conv2d(\n\u001b[32m    533\u001b[39m         F.pad(\n\u001b[32m    534\u001b[39m             \u001b[38;5;28minput\u001b[39m, \u001b[38;5;28mself\u001b[39m._reversed_padding_repeated_twice, mode=\u001b[38;5;28mself\u001b[39m.padding_mode\n\u001b[32m   (...)\u001b[39m\u001b[32m    541\u001b[39m         \u001b[38;5;28mself\u001b[39m.groups,\n\u001b[32m    542\u001b[39m     )\n\u001b[32m--> \u001b[39m\u001b[32m543\u001b[39m \u001b[38;5;28;01mreturn\u001b[39;00m \u001b[43mF\u001b[49m\u001b[43m.\u001b[49m\u001b[43mconv2d\u001b[49m\u001b[43m(\u001b[49m\n\u001b[32m    544\u001b[39m \u001b[43m    \u001b[49m\u001b[38;5;28;43minput\u001b[39;49m\u001b[43m,\u001b[49m\u001b[43m \u001b[49m\u001b[43mweight\u001b[49m\u001b[43m,\u001b[49m\u001b[43m \u001b[49m\u001b[43mbias\u001b[49m\u001b[43m,\u001b[49m\u001b[43m \u001b[49m\u001b[38;5;28;43mself\u001b[39;49m\u001b[43m.\u001b[49m\u001b[43mstride\u001b[49m\u001b[43m,\u001b[49m\u001b[43m \u001b[49m\u001b[38;5;28;43mself\u001b[39;49m\u001b[43m.\u001b[49m\u001b[43mpadding\u001b[49m\u001b[43m,\u001b[49m\u001b[43m \u001b[49m\u001b[38;5;28;43mself\u001b[39;49m\u001b[43m.\u001b[49m\u001b[43mdilation\u001b[49m\u001b[43m,\u001b[49m\u001b[43m \u001b[49m\u001b[38;5;28;43mself\u001b[39;49m\u001b[43m.\u001b[49m\u001b[43mgroups\u001b[49m\n\u001b[32m    545\u001b[39m \u001b[43m\u001b[49m\u001b[43m)\u001b[49m\n",
      "\u001b[31mKeyboardInterrupt\u001b[39m: "
     ]
    }
   ],
   "source": [
    "\n",
    "device = torch.device(\"cuda\" if torch.cuda.is_available() else \"cpu\")\n",
    "print(f\"Using device: {device}\")\n",
    "\n",
    "num_classes = y.max() + 1\n",
    "model = DoodleCNN(num_classes).to(device)\n",
    "criterion = nn.CrossEntropyLoss()\n",
    "optimizer = optim.AdamW(model.parameters(), lr=0.001, weight_decay=1e-4)\n",
    "scheduler = optim.lr_scheduler.ReduceLROnPlateau(optimizer, patience=3, factor=0.5) \n",
    "num_epochs = 30\n",
    "batch_size = 64  # Reduced batch size to manage memory\n",
    "\n",
    "# Convert to tensors with correct data types\n",
    "X_train_tensor = torch.tensor(X_train, dtype=torch.float32)\n",
    "y_train_tensor = torch.tensor(y_train, dtype=torch.long)  # Use long for class indices\n",
    "\n",
    "train_dataset = TensorDataset(X_train_tensor, y_train_tensor)\n",
    "train_loader = DataLoader(train_dataset, batch_size=batch_size, shuffle=True)  # Reduce batch size\n",
    "\n",
    "history = {\n",
    "    'train_loss': [],\n",
    "    'train_accuracy': [],\n",
    "    'val_loss': [],\n",
    "    'val_accuracy': []\n",
    "}\n",
    "\n",
    "for epoch in range(num_epochs):\n",
    "    # Training\n",
    "    train_loss, train_accuracy = train_model(model, train_loader, criterion, optimizer, device)\n",
    "    \n",
    "    # Validation\n",
    "    val_loss, val_accuracy = validate_model(model, X_test, y_test, criterion, device)\n",
    "    \n",
    "    print(f\"Epoch {epoch+1}/{num_epochs}\")\n",
    "    print(f\"  Train - Loss: {train_loss:.4f}, Accuracy: {train_accuracy:.4f}\")\n",
    "    print(f\"  Val   - Loss: {val_loss:.4f}, Accuracy: {val_accuracy:.4f}\")\n",
    "    \n",
    "    history['train_loss'].append(train_loss)\n",
    "    history['train_accuracy'].append(train_accuracy)\n",
    "    history['val_loss'].append(val_loss)\n",
    "    history['val_accuracy'].append(val_accuracy)\n",
    "    \n",
    "    # Clear GPU cache periodically\n",
    "    if torch.cuda.is_available():\n",
    "        torch.cuda.empty_cache()\n",
    "\n",
    "# Save the trained model\n",
    "torch.save(model.state_dict(), \"doodle_cnn.pth\")\n",
    "print(\"Model saved successfully!\")"
   ]
  },
  {
   "cell_type": "code",
   "execution_count": 19,
   "id": "43472865",
   "metadata": {},
   "outputs": [
    {
     "data": {
      "image/png": "[encoded data removed]",
      "text/plain": [
       "<Figure size 1200x400 with 2 Axes>"
      ]
     },
     "metadata": {},
     "output_type": "display_data"
    }
   ],
   "source": [
    "import matplotlib.pyplot as plt\n",
    "\n",
    "# Plot training & validation accuracy values\n",
    "plt.figure(figsize=(12, 4))\n",
    "plt.subplot(1, 2, 1)\n",
    "plt.plot(history['train_accuracy'])  # Remove .history\n",
    "plt.plot(history['val_accuracy'])    # Remove .history\n",
    "plt.title('Model accuracy')\n",
    "plt.xlabel('Epoch')\n",
    "plt.ylabel('Accuracy')\n",
    "plt.legend(['Train', 'Validation'], loc='upper left')\n",
    "\n",
    "# Plot training & validation loss values\n",
    "plt.subplot(1, 2, 2)\n",
    "plt.plot(history['train_loss'])      # Remove .history\n",
    "plt.plot(history['val_loss'])        # Remove .history\n",
    "plt.title('Model loss')\n",
    "plt.xlabel('Epoch')\n",
    "plt.ylabel('Loss')\n",
    "plt.legend(['Train', 'Validation'], loc='upper left')\n",
    "\n",
    "plt.tight_layout()\n",
    "plt.show()"
   ]
  },
  {
   "cell_type": "code",
   "execution_count": 28,
   "id": "6b7fb63d",
   "metadata": {},
   "outputs": [],
   "source": [
    "from pathlib import Path\n",
    "\n",
    "import torch\n",
    "# import gradio as gr\n",
    "from torch import nn\n",
    "\n",
    "LABELS = Path('class_names.txt').read_text().splitlines()\n",
    "\n",
    "model = nn.Sequential(\n",
    "    nn.Conv2d(1, 32, 3, padding='same'),\n",
    "    nn.ReLU(),\n",
    "    nn.MaxPool2d(2),\n",
    "    nn.Conv2d(32, 64, 3, padding='same'),\n",
    "    nn.ReLU(),\n",
    "    nn.MaxPool2d(2),\n",
    "    nn.Conv2d(64, 128, 3, padding='same'),\n",
    "    nn.ReLU(),\n",
    "    nn.MaxPool2d(2),\n",
    "    nn.Flatten(),\n",
    "    nn.Linear(1152, 256),\n",
    "    nn.ReLU(),\n",
    "    nn.Linear(256, len(LABELS)),\n",
    ")\n",
    "\n",
    "state_dict = torch.load('pytorch_model.bin', map_location='cpu')\n",
    "model.load_state_dict(state_dict, strict=False)\n",
    "model.eval()\n",
    "\n",
    "def predict(im):\n",
    "    x = torch.tensor(im, dtype=torch.float32).unsqueeze(0).unsqueeze(0) / 255.\n",
    "\n",
    "    with torch.no_grad():\n",
    "        out = model(x)\n",
    "\n",
    "    probabilities = torch.nn.functional.softmax(out[0], dim=0)\n",
    "\n",
    "    values, indices = torch.topk(probabilities, 5)\n",
    "\n",
    "    return {LABELS[i]: v.item() for i, v in zip(indices, values)}"
   ]
  },
  {
   "cell_type": "code",
   "execution_count": null,
   "id": "58a71976",
   "metadata": {},
   "outputs": [],
   "source": []
  }
 ],
 "metadata": {
  "kernelspec": {
   "display_name": "OneStroke_venv",
   "language": "python",
   "name": "python3"
  },
  "language_info": {
   "codemirror_mode": {
    "name": "ipython",
    "version": 3
   },
   "file_extension": ".py",
   "mimetype": "text/x-python",
   "name": "python",
   "nbconvert_exporter": "python",
   "pygments_lexer": "ipython3",
   "version": "3.12.3"
  }
 },
 "nbformat": 4,
 "nbformat_minor": 5
}
